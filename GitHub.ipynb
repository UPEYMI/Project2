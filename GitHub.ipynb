{
 "cells": [
  {
   "cell_type": "markdown",
   "id": "c57bd50c",
   "metadata": {},
   "source": [
    "#### 1) Clone Repo"
   ]
  },
  {
   "cell_type": "code",
   "execution_count": null,
   "id": "553d1302",
   "metadata": {},
   "outputs": [],
   "source": [
    "git clone url\n",
    "\n",
    "git clone https://github.com/UPEYMI/Project2.git"
   ]
  },
  {
   "cell_type": "code",
   "execution_count": null,
   "id": "0c8bd815",
   "metadata": {},
   "outputs": [],
   "source": [
    "2) git status >> to know what is remain for commit"
   ]
  },
  {
   "cell_type": "markdown",
   "id": "73cc8956",
   "metadata": {},
   "source": [
    "#### 3) How to add"
   ]
  },
  {
   "cell_type": "code",
   "execution_count": null,
   "id": "1c668678",
   "metadata": {},
   "outputs": [],
   "source": [
    "git add . >> for multiple files\n",
    "git add file_name > for single file"
   ]
  },
  {
   "cell_type": "markdown",
   "id": "b69fd0e8",
   "metadata": {},
   "source": [
    "#### 4) commit"
   ]
  },
  {
   "cell_type": "code",
   "execution_count": null,
   "id": "42089d47",
   "metadata": {},
   "outputs": [],
   "source": [
    "git commit -m \"Message\""
   ]
  },
  {
   "cell_type": "code",
   "execution_count": null,
   "id": "5fc03e3d",
   "metadata": {},
   "outputs": [],
   "source": [
    "added new"
   ]
  },
  {
   "cell_type": "code",
   "execution_count": null,
   "id": "d2e8baae",
   "metadata": {},
   "outputs": [],
   "source": [
    "5) git push origin main \n",
    "git push"
   ]
  },
  {
   "cell_type": "code",
   "execution_count": null,
   "id": "22b130ad",
   "metadata": {},
   "outputs": [],
   "source": []
  }
 ],
 "metadata": {
  "kernelspec": {
   "display_name": "Python 3 (ipykernel)",
   "language": "python",
   "name": "python3"
  },
  "language_info": {
   "codemirror_mode": {
    "name": "ipython",
    "version": 3
   },
   "file_extension": ".py",
   "mimetype": "text/x-python",
   "name": "python",
   "nbconvert_exporter": "python",
   "pygments_lexer": "ipython3",
   "version": "3.9.7"
  }
 },
 "nbformat": 4,
 "nbformat_minor": 5
}
